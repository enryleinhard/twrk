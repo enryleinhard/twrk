{
 "cells": [
  {
   "cell_type": "code",
   "execution_count": 421,
   "metadata": {
    "id": "GAGi6hrzFLOb"
   },
   "outputs": [],
   "source": [
    "import numpy as np\n",
    "import pandas as pd\n",
    "from sklearn.feature_extraction.text import TfidfVectorizer\n",
    "from sklearn.metrics.pairwise import cosine_similarity"
   ]
  },
  {
   "cell_type": "code",
   "execution_count": 422,
   "metadata": {},
   "outputs": [],
   "source": [
    "user = {\n",
    "  \"data\": {\n",
    "    \"createUser\": {\n",
    "      \"id\": \"61f5288c942c352170473dcb\",\n",
    "      \"firstName\": \"Polly\",\n",
    "      \"lastName\": \"Shelby\",\n",
    "      \"gender\": \"FEMALE\",\n",
    "      \"age\": 55,\n",
    "      \"language\": \"ENGLISH\",\n",
    "      \"email\": \"polly@abc.com\",\n",
    "      \"specialization\": [\n",
    "        \"cinematography\"\n",
    "      ],\n",
    "      \"skills\": [\n",
    "        \"adobePremierPro\",\n",
    "        \"python\"\n",
    "      ],\n",
    "      \"interests\": [\n",
    "        \"cinematography\",\n",
    "          \"dataVisualization\"\n",
    "      ],\n",
    "      \"experience\": [\n",
    "        \"STACK Development\"\n",
    "      ],\n",
    "      \"projects\": []\n",
    "    }\n",
    "  }\n",
    "}"
   ]
  },
  {
   "cell_type": "code",
   "execution_count": 423,
   "metadata": {},
   "outputs": [],
   "source": [
    "#Dataframe of all projects \n",
    "df_projects = pd.DataFrame(columns = [\"projectId\", \"projectType\", \"projectSkills\"])\n"
   ]
  },
  {
   "cell_type": "code",
   "execution_count": 424,
   "metadata": {
    "id": "MOXn7CGdIGBU"
   },
   "outputs": [],
   "source": [
    "df_projects = pd.read_csv('./project_database.csv')\n",
    "\n",
    "currentUserId = \"user\"\n",
    "currentUserPreference = ' '.join(user[\"data\"][\"createUser\"][\"interests\"])\n",
    "currentUserSkills = ' '.join(user[\"data\"][\"createUser\"][\"skills\"])\n",
    "\n",
    "new_row = pd.DataFrame({'projectId': currentUserId, \"projectType\" : currentUserPreference , 'projectSkills': currentUserSkills}, index =[0])\n",
    "# simply concatenate both dataframes\n",
    "df_projects = pd.concat([new_row, df_projects]).reset_index(drop = True)\n",
    "\n",
    "#insert df_user to index number 0"
   ]
  },
  {
   "cell_type": "code",
   "execution_count": 425,
   "metadata": {
    "colab": {
     "base_uri": "https://localhost:8080/"
    },
    "id": "hunvyruUJhVq",
    "outputId": "2c7d6753-ee70-4e37-92a8-05fe7c6d4921"
   },
   "outputs": [],
   "source": [
    "selected_features = ['projectType','projectSkills']"
   ]
  },
  {
   "cell_type": "code",
   "execution_count": 426,
   "metadata": {
    "id": "-AMjrRItLCO1"
   },
   "outputs": [],
   "source": [
    "combined_features = df_projects['projectType']+' '+df_projects['projectSkills']"
   ]
  },
  {
   "cell_type": "code",
   "execution_count": 427,
   "metadata": {
    "id": "BfuttC_gLyfF"
   },
   "outputs": [],
   "source": [
    "vectorizer = TfidfVectorizer()"
   ]
  },
  {
   "cell_type": "code",
   "execution_count": 428,
   "metadata": {
    "id": "Leo5rQskMKxL"
   },
   "outputs": [],
   "source": [
    "feature_vectors = vectorizer.fit_transform(combined_features)"
   ]
  },
  {
   "cell_type": "code",
   "execution_count": 429,
   "metadata": {
    "id": "MsKYCs31MeB6"
   },
   "outputs": [],
   "source": [
    "similarity = cosine_similarity(feature_vectors)"
   ]
  },
  {
   "cell_type": "code",
   "execution_count": 430,
   "metadata": {},
   "outputs": [],
   "source": [
    "similarity_score = list(enumerate(similarity[0]))"
   ]
  },
  {
   "cell_type": "code",
   "execution_count": 431,
   "metadata": {
    "colab": {
     "base_uri": "https://localhost:8080/"
    },
    "id": "SkXgFLePQkHL",
    "outputId": "54171e01-edf3-4cf9-fede-124c451db257"
   },
   "outputs": [],
   "source": [
    "sorted_similar_project = sorted(similarity_score, key = lambda x:x[1], reverse = True) "
   ]
  },
  {
   "cell_type": "code",
   "execution_count": 432,
   "metadata": {},
   "outputs": [],
   "source": [
    "similar_projectId = []\n",
    "for x in range(1,len(sorted_similar_project)):\n",
    "    if sorted_similar_project[x][1] > 0:\n",
    "        similar_projectId.append(df_projects.loc[sorted_similar_project[x][0],\"projectId\"])"
   ]
  },
  {
   "cell_type": "code",
   "execution_count": 433,
   "metadata": {},
   "outputs": [
    {
     "data": {
      "text/plain": [
       "(202, 0.6196187273732832)"
      ]
     },
     "execution_count": 433,
     "metadata": {},
     "output_type": "execute_result"
    }
   ],
   "source": [
    "sorted_similar_project[1]"
   ]
  },
  {
   "cell_type": "code",
   "execution_count": 434,
   "metadata": {},
   "outputs": [
    {
     "data": {
      "text/plain": [
       "projectId            837b2290-7ed0-4d70-94f1-419bf036880f\n",
       "projectType      cinematography illustration videoEditing\n",
       "projectSkills             adobePhotoshop, adobePremierPro\n",
       "Name: 202, dtype: object"
      ]
     },
     "execution_count": 434,
     "metadata": {},
     "output_type": "execute_result"
    }
   ],
   "source": [
    "df_projects.loc[202]"
   ]
  },
  {
   "cell_type": "code",
   "execution_count": 435,
   "metadata": {},
   "outputs": [
    {
     "data": {
      "text/plain": [
       "projectId                                    user\n",
       "projectType      cinematography dataVisualization\n",
       "projectSkills              adobePremierPro python\n",
       "Name: 0, dtype: object"
      ]
     },
     "execution_count": 435,
     "metadata": {},
     "output_type": "execute_result"
    }
   ],
   "source": [
    "df_projects.loc[0]"
   ]
  },
  {
   "cell_type": "code",
   "execution_count": 420,
   "metadata": {},
   "outputs": [
    {
     "data": {
      "text/plain": [
       "['837b2290-7ed0-4d70-94f1-419bf036880f',\n",
       " '22cdf853-e38e-4c0d-b1c4-98cb5c5a4003',\n",
       " 'e7167e9b-e3f7-4583-9036-a9db1c889532',\n",
       " 'a888fadd-df2a-4ed6-8ab7-083b1fe452f9',\n",
       " '96e51d23-1422-4d70-884d-c6d79117a96f',\n",
       " '1deaa58c-e5c9-4edc-b637-8554385771fe',\n",
       " 'd5280321-1a0a-41b3-beba-a7f42e1ad66e',\n",
       " 'b04b4d7d-2cd8-498b-ab28-c76b21e1a628',\n",
       " '4e32fba0-8ede-4243-8879-2ad99f1dce2d',\n",
       " '75815553-80cf-42d9-ab87-5ee2d0655ccb',\n",
       " 'c04991e2-5dc5-4500-9346-57e6c96ee907',\n",
       " '6e96b560-d6b6-49f7-94cc-8789b1792579',\n",
       " '970fae98-1e1c-4d09-a9e5-6b9607b46cef',\n",
       " '6c78e670-8a63-4ebe-81a1-2eb1204948b6',\n",
       " '4dc715cc-25d7-428b-9068-1b35fb935af6',\n",
       " '27faf88a-ac40-4f09-9034-e13c4c1fdd56',\n",
       " '1d88e93f-7300-4891-8bfe-e586a5a195f3',\n",
       " '5d89352e-cdc0-4900-80e4-3a47598b0a39',\n",
       " '4ac10d8b-6cc3-40b8-85cb-74585d94cf8c',\n",
       " 'c4dd4726-be5f-4813-a69a-693fb93b5cd1',\n",
       " 'dc45b833-4c3b-45fe-8347-5b9c07998266',\n",
       " 'e4d315af-b31b-4e12-a790-1675003916fc',\n",
       " '7b389826-9ef4-46e3-9f7f-5ac184e47c41',\n",
       " '2b0c38cd-f72f-4109-a023-23933e94d385',\n",
       " '9eab4d65-1081-4ad4-80d3-175632e8b30f',\n",
       " '167321ae-2357-4d5b-aca9-8350bf0d8197',\n",
       " '9d35e3e7-895e-419a-ad2c-a56cc4f43fb3',\n",
       " 'e0ae96ba-30f8-43c8-a779-dc1796df892c',\n",
       " '17117cd9-8127-498c-90c8-ab8dafa24262',\n",
       " '65816d69-e5c1-4901-86aa-c50c906ea072',\n",
       " 'a68b9191-35ec-4c75-8551-4a336a072e8c',\n",
       " 'eb71cdba-4cc7-49c6-9e05-d5aef3833f10',\n",
       " '8c96e49f-d448-4117-b4eb-f7518aeb3e60',\n",
       " 'dfc19bfa-aec4-4a6d-bf7a-008b9eb0d710',\n",
       " '07df22f5-c804-40a6-9fc0-caeef5ac7d8f',\n",
       " 'b67abb4b-fdd0-4d39-9c8a-d0eca6502c71',\n",
       " 'bc245dd3-1e57-4b1d-95dc-414d86785bb5',\n",
       " 'd6a621da-0b23-46df-bb95-7f68bc6d76ba',\n",
       " 'd4a0c51a-e4b4-4d03-bdec-6bcc77a6e528',\n",
       " '6580d49e-65db-4f83-8bc1-b51921ca3a7b',\n",
       " '0936d98c-9596-4c47-af1a-ed152431461b',\n",
       " '573e190e-0a17-4294-9d92-88d3d1e256dd',\n",
       " '4d8546d7-9176-4cfb-92c0-fec464b74c48',\n",
       " '067345bd-cbdb-4369-963a-2097486f127e',\n",
       " 'bbc5c0b3-c9cd-4eaf-b673-b3ebc366efbc',\n",
       " '62517833-e1c8-4ba2-9b58-bb689275b1ae',\n",
       " '6e7c0e88-2781-4eb7-a553-77c1cd866ff8',\n",
       " '04a49a3b-de28-4838-b3fa-2bb91cf99c54',\n",
       " '32b03f8a-0301-49ae-a763-d11cf88e4467',\n",
       " '63e6f5e5-c595-4ff9-af9d-e2fc89e75b31',\n",
       " '55ea5f52-bd9f-4ec3-8c80-6ce0809d265f',\n",
       " 'a5412eba-6ba4-4011-9a58-d75f7ca7b7fb',\n",
       " '7a108259-4fe9-439a-ae1b-21653d709ad8',\n",
       " '7324db54-044f-4bc3-910d-e70d24f089d1',\n",
       " '7dfedabd-ecb0-4819-b563-7466e77c6439',\n",
       " '64ef4b13-26e8-4a92-ac9d-527fb12d59ad',\n",
       " 'e2a954a3-f576-4a8c-8999-729b44515bc2',\n",
       " 'a80b6e68-c7c1-48c2-b479-7436d05db276',\n",
       " '4bb1c8ad-153b-41a4-a1e7-34a4337c72c8',\n",
       " 'f71f6c42-ac77-4d6f-8654-5c1a3d5d8d6d',\n",
       " '1e88e5c8-7c25-40d5-819b-ba964e11e207',\n",
       " '32d844fa-e10e-4b83-bef7-1f912a6f2948',\n",
       " '99072729-4e59-457e-98bb-796ab475d192',\n",
       " '7ee5a3c0-fe71-46d0-b177-0562901dc71a',\n",
       " 'ccb70275-0d68-42db-8399-4fc7acbb5351',\n",
       " '79b8cf84-feb2-4102-a89e-928796d880f3',\n",
       " '31fea94e-0880-4210-b342-406ca89cb42c',\n",
       " '48b86626-1899-4f40-815d-6cac8ea71376',\n",
       " '9811ac69-8a31-4318-a945-44ac1e3efc87',\n",
       " '43c007c2-a451-49fe-b6b5-89196bab9c6c',\n",
       " 'dc6dc22b-e1da-455c-bdaf-6af3e9649761',\n",
       " '8d3138f7-2503-4ee9-9c58-f0584169fe10']"
      ]
     },
     "execution_count": 420,
     "metadata": {},
     "output_type": "execute_result"
    }
   ],
   "source": [
    "similar_projectId"
   ]
  },
  {
   "cell_type": "code",
   "execution_count": null,
   "metadata": {},
   "outputs": [],
   "source": []
  }
 ],
 "metadata": {
  "colab": {
   "collapsed_sections": [],
   "name": "Project 18. Movie Recommendation System using Machine Learning with Python.ipynb",
   "provenance": []
  },
  "kernelspec": {
   "display_name": "Python 3 (ipykernel)",
   "language": "python",
   "name": "python3"
  },
  "language_info": {
   "codemirror_mode": {
    "name": "ipython",
    "version": 3
   },
   "file_extension": ".py",
   "mimetype": "text/x-python",
   "name": "python",
   "nbconvert_exporter": "python",
   "pygments_lexer": "ipython3",
   "version": "3.9.7"
  }
 },
 "nbformat": 4,
 "nbformat_minor": 4
}
